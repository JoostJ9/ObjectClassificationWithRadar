{
 "cells": [
  {
   "cell_type": "code",
   "execution_count": 2,
   "id": "1e55e55c",
   "metadata": {},
   "outputs": [
    {
     "name": "stdout",
     "output_type": "stream",
     "text": [
      "Image cropping and renaming completed!\n"
     ]
    }
   ],
   "source": [
    "import os\n",
    "from PIL import Image\n",
    "\n",
    "# Define the main directory paths (replace with your actual paths)\n",
    "main_dir = r'C:\\Users\\Adnane\\Desktop\\Radar\\ObjectClassificationWithRadar\\Crop_cfar_images\\spectrograms_CFAR'         # Your original main directory\n",
    "processed_dir = r'C:\\Users\\Adnane\\Desktop\\Radar\\ObjectClassificationWithRadar\\Crop_cfar_images\\spectrograms_CFAR_processed'  # New main directory for processed images\n",
    "\n",
    "# Create the processed directory if it doesn’t exist\n",
    "os.makedirs(processed_dir, exist_ok=True)\n",
    "\n",
    "# Traverse all subdirectories in the main directory\n",
    "for root, dirs, files in os.walk(main_dir):\n",
    "    # Get the relative path to preserve subdirectory structure\n",
    "    rel_path = os.path.relpath(root, main_dir)\n",
    "    # Create the corresponding subdirectory in processed_dir\n",
    "    target_dir = os.path.join(processed_dir, rel_path)\n",
    "    os.makedirs(target_dir, exist_ok=True)\n",
    "    \n",
    "    # Process each .png file in the current subdirectory\n",
    "    for file in files:\n",
    "        if file.endswith('.png'):\n",
    "            # Construct the full path to the original image\n",
    "            img_path = os.path.join(root, file)\n",
    "            \n",
    "            # Open the image\n",
    "            img = Image.open(img_path)\n",
    "            \n",
    "            # Crop the image to remove the top 40 pixels\n",
    "            # Crop box: (left, top, right, bottom) = (0, 40, 773, 577)\n",
    "            cropped_img = img.crop((0, 40, 773, 577))  # Results in 773 x 537 pixels\n",
    "            \n",
    "            # Generate the new filename\n",
    "            base_name = file.split('_')[0]  # e.g., '1P36A01R01'\n",
    "            new_file = base_name + '_spectrogram.png'  # e.g., '1P36A01R01_spectrogram.png'\n",
    "            \n",
    "            # Save the cropped image in the new directory\n",
    "            save_path = os.path.join(target_dir, new_file)\n",
    "            cropped_img.save(save_path)\n",
    "\n",
    "print(\"Image cropping and renaming completed!\")"
   ]
  }
 ],
 "metadata": {
  "kernelspec": {
   "display_name": "Python 3",
   "language": "python",
   "name": "python3"
  },
  "language_info": {
   "codemirror_mode": {
    "name": "ipython",
    "version": 3
   },
   "file_extension": ".py",
   "mimetype": "text/x-python",
   "name": "python",
   "nbconvert_exporter": "python",
   "pygments_lexer": "ipython3",
   "version": "3.12.6"
  }
 },
 "nbformat": 4,
 "nbformat_minor": 5
}
